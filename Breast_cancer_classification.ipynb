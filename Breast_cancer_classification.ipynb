{
  "cells": [
    {
      "attachments": {},
      "cell_type": "markdown",
      "metadata": {
        "colab_type": "text",
        "id": "view-in-github"
      },
      "source": [
        "<a href=\"https://colab.research.google.com/github/abhinavsagar/Breast-cancer-classification/blob/master/Breast_cancer_classification.ipynb\" target=\"_parent\"><img src=\"https://colab.research.google.com/assets/colab-badge.svg\" alt=\"Open In Colab\"/></a>"
      ]
    },
    {
      "attachments": {},
      "cell_type": "markdown",
      "metadata": {
        "colab_type": "text",
        "id": "rMWxokl4SqRp"
      },
      "source": [
        "# Loading & Preprocessing"
      ]
    },
    {
      "cell_type": "code",
      "execution_count": 1,
      "metadata": {
        "_cell_guid": "b1076dfc-b9ad-4769-8c92-a6c4dae69d19",
        "_uuid": "8f2839f25d086af736a60e9eeb907d3b93b6e0e5",
        "colab": {},
        "colab_type": "code",
        "id": "WYLMQqTwSqRh"
      },
      "outputs": [],
      "source": [
        "import json\n",
        "import math\n",
        "import os\n",
        "\n",
        "import cv2\n",
        "from PIL import Image\n",
        "import numpy as np\n",
        "from keras import layers\n",
        "from keras.applications import DenseNet201\n",
        "from keras.callbacks import ModelCheckpoint, ReduceLROnPlateau\n",
        "from keras.preprocessing.image import ImageDataGenerator\n",
        "from keras.utils.np_utils import to_categorical\n",
        "from keras.models import Sequential\n",
        "from keras.optimizers import Adam\n",
        "import matplotlib.pyplot as plt\n",
        "import pandas as pd\n",
        "from sklearn.model_selection import train_test_split\n",
        "from sklearn.metrics import accuracy_score\n",
        "from tqdm import tqdm\n",
        "from keras import backend as K\n",
        "import gc\n",
        "import json\n",
        "import itertools\n",
        "\n",
        "\n",
        "%matplotlib inline"
      ]
    },
    {
      "cell_type": "code",
      "execution_count": null,
      "metadata": {
        "colab": {
          "base_uri": "https://localhost:8080/",
          "height": 85
        },
        "colab_type": "code",
        "id": "awOlyPMkSqRr",
        "outputId": "9d6bcb47-afc6-40f0-ba89-50ed6f750179"
      },
      "outputs": [],
      "source": [
        "def load_dataset(dir, size):\n",
        "    images_list = []\n",
        "    read = lambda imname: np.asarray(Image.open(imname).convert(\"RGB\"))\n",
        "    for image in tqdm(os.listdir(dir)):\n",
        "        path = os.path.join(dir,image)\n",
        "        _, ftype = os.path.splitext(path)\n",
        "        if ftype == \".png\":\n",
        "            images = read(path)\n",
        "           \n",
        "            images = cv2.resize(images, (size,size))\n",
        "           \n",
        "            images_list.append(np.array(images))\n",
        "    return images_list\n",
        "\n",
        "benign_train = np.array(load_dataset(r'C:\\Users\\ravi kumar\\Downloads\\breast-cancer-classification-new\\breast-cancer-classification-master\\train\\begin', 224))\n",
        "malign_train = np.array(load_dataset(r'C:\\Users\\ravi kumar\\Downloads\\breast-cancer-classification-new\\breast-cancer-classification-master\\train\\malign', 224))\n",
        "benign_test = np.array(load_dataset(r'C:\\Users\\ravi kumar\\Downloads\\breast-cancer-classification-new\\breast-cancer-classification-master\\test\\begin', 224))\n",
        "malign_test = np.array(load_dataset(r'C:\\Users\\ravi kumar\\Downloads\\breast-cancer-classification-new\\breast-cancer-classification-master\\test\\malign', 224))"
      ]
    },
    {
      "attachments": {},
      "cell_type": "markdown",
      "metadata": {
        "colab_type": "text",
        "id": "6_aYpUdRSqRx"
      },
      "source": [
        "# Create Label"
      ]
    },
    {
      "cell_type": "code",
      "execution_count": 9,
      "metadata": {
        "colab": {},
        "colab_type": "code",
        "id": "VvLXqIjJSqR0"
      },
      "outputs": [],
      "source": [
        "benign_train_label = np.zeros(len(benign_train))\n",
        "malign_train_label = np.ones(len(malign_train))\n",
        "benign_test_label = np.zeros(len(benign_test))\n",
        "malign_test_label = np.ones(len(malign_test))\n",
        "\n",
        "X_train = np.concatenate((benign_train, malign_train), axis = 0)\n",
        "Y_train = np.concatenate((benign_train_label, malign_train_label), axis = 0)\n",
        "X_test = np.concatenate((benign_test, malign_test), axis = 0)\n",
        "Y_test = np.concatenate((benign_test_label, malign_test_label), axis = 0)\n",
        "\n",
        "s = np.arange(X_train.shape[0])\n",
        "np.random.shuffle(s)\n",
        "X_train = X_train[s]\n",
        "Y_train = Y_train[s]\n",
        "\n",
        "s = np.arange(X_test.shape[0])\n",
        "np.random.shuffle(s)\n",
        "X_test = X_test[s]\n",
        "Y_test = Y_test[s]\n",
        "\n",
        "Y_train = to_categorical(Y_train, num_classes= 2)\n",
        "Y_test = to_categorical(Y_test, num_classes= 2)"
      ]
    },
    {
      "attachments": {},
      "cell_type": "markdown",
      "metadata": {
        "colab_type": "text",
        "id": "pzRYwNNeSqR6"
      },
      "source": [
        "# Train and Evalutation split"
      ]
    },
    {
      "cell_type": "code",
      "execution_count": 10,
      "metadata": {
        "colab": {},
        "colab_type": "code",
        "id": "tFPNVKuVSqR7"
      },
      "outputs": [],
      "source": [
        "x_train, x_val, y_train, y_val = train_test_split(\n",
        "    X_train, Y_train, \n",
        "    test_size=0.2, \n",
        "    random_state=11\n",
        ")"
      ]
    },
    {
      "attachments": {},
      "cell_type": "markdown",
      "metadata": {
        "colab_type": "text",
        "id": "zeHBKGkOSqSH"
      },
      "source": [
        "# Data Generator"
      ]
    },
    {
      "cell_type": "code",
      "execution_count": 11,
      "metadata": {
        "colab": {},
        "colab_type": "code",
        "id": "GzvWwOX5SqSJ"
      },
      "outputs": [],
      "source": [
        "BATCH_SIZE = 16\n",
        "\n",
        "train_generator = ImageDataGenerator(\n",
        "        rotation_range = 90,\n",
        "        horizontal_flip=True,\n",
        "        vertical_flip=True,\n",
        "    )"
      ]
    },
    {
      "attachments": {},
      "cell_type": "markdown",
      "metadata": {
        "colab_type": "text",
        "id": "YV-DcpEdSqSN"
      },
      "source": [
        "# Model: DenseNet201"
      ]
    },
    {
      "cell_type": "code",
      "execution_count": 12,
      "metadata": {
        "colab": {},
        "colab_type": "code",
        "id": "PiOb_A16SqSP"
      },
      "outputs": [],
      "source": [
        "def build_model(backbone, lr=1e-4):\n",
        "    model = Sequential()\n",
        "    model.add(backbone)\n",
        "    model.add(layers.GlobalAveragePooling2D())\n",
        "    model.add(layers.Dropout(0.5))\n",
        "    model.add(layers.BatchNormalization())\n",
        "    model.add(layers.Dense(2, activation='softmax'))\n",
        "    \n",
        "    \n",
        "    model.compile(\n",
        "        loss='binary_crossentropy',\n",
        "        optimizer=Adam(lr=lr),\n",
        "        metrics=['accuracy']\n",
        "    )\n",
        "    \n",
        "    return model"
      ]
    },
    {
      "cell_type": "code",
      "execution_count": null,
      "metadata": {
        "colab": {
          "base_uri": "https://localhost:8080/",
          "height": 323
        },
        "colab_type": "code",
        "id": "IiNR9yNsSqSZ",
        "outputId": "55c45c28-ece7-4999-c993-a5111a0684ac"
      },
      "outputs": [],
      "source": [
        "K.clear_session()\n",
        "gc.collect()\n",
        "\n",
        "densenet = DenseNet201(\n",
        "    weights='imagenet',\n",
        "    include_top=False,\n",
        "    input_shape=(224,224,3)\n",
        ")\n",
        "\n",
        "\n",
        " \n",
        "\n",
        "\n",
        "model = build_model(densenet ,lr = 1e-4)\n",
        "model.summary()"
      ]
    },
    {
      "cell_type": "code",
      "execution_count": 23,
      "metadata": {
        "colab": {},
        "colab_type": "code",
        "id": "0kte5sieSqSg"
      },
      "outputs": [],
      "source": [
        "learn_control = ReduceLROnPlateau(monitor='val_accuracy', patience=5,\n",
        "                                  verbose=1,factor=0.2)\n",
        "\n",
        "wiight_save_file_path=\"weights.best.hdf5\"\n",
        "checkpoint = ModelCheckpoint(wiight_save_file_path, monitor='val_accuracy', verbose=1, save_best_only=True, mode='max')"
      ]
    },
    {
      "attachments": {},
      "cell_type": "markdown",
      "metadata": {
        "colab_type": "text",
        "id": "7_J8fUneSqSl"
      },
      "source": [
        "# Training & Evaluation"
      ]
    },
    {
      "cell_type": "code",
      "execution_count": null,
      "metadata": {
        "colab": {
          "base_uri": "https://localhost:8080/",
          "height": 1000
        },
        "colab_type": "code",
        "id": "ajEGVCVOSqSm",
        "outputId": "d81ca819-2276-4153-ae40-3414c3c432d6"
      },
      "outputs": [],
      "source": [
        "history = model.fit_generator(\n",
        "    train_generator.flow(x_train, y_train, batch_size=BATCH_SIZE),\n",
        "    steps_per_epoch=x_train.shape[0] / BATCH_SIZE,\n",
        "    epochs=28,\n",
        "    validation_data=(x_val, y_val),\n",
        "    callbacks=[learn_control, checkpoint]\n",
        ")\n",
        "model.save('model.h5')"
      ]
    },
    {
      "cell_type": "code",
      "execution_count": 25,
      "metadata": {
        "colab": {},
        "colab_type": "code",
        "id": "RXAJgKlxSqSt"
      },
      "outputs": [],
      "source": [
        "with open('history.json', 'w') as f:\n",
        "    json.dump(str(history.history), f)"
      ]
    },
    {
      "cell_type": "code",
      "execution_count": null,
      "metadata": {
        "colab": {
          "base_uri": "https://localhost:8080/",
          "height": 286
        },
        "colab_type": "code",
        "id": "Q_91LlCWSqSy",
        "outputId": "e5a362ac-a3fb-4557-a6d3-7ad8505ffbf1"
      },
      "outputs": [],
      "source": [
        "history_df = pd.DataFrame(history.history)\n",
        "history_df[['accuracy', 'val_accuracy']].plot()"
      ]
    },
    {
      "cell_type": "code",
      "execution_count": null,
      "metadata": {
        "colab": {
          "base_uri": "https://localhost:8080/",
          "height": 286
        },
        "colab_type": "code",
        "id": "IlBxAgv_SqS3",
        "outputId": "37366ff9-8f4d-4172-a408-31d6e3f36d2f"
      },
      "outputs": [],
      "source": [
        "history_df = pd.DataFrame(history.history)\n",
        "history_df[['loss', 'val_loss']].plot()"
      ]
    },
    {
      "attachments": {},
      "cell_type": "markdown",
      "metadata": {
        "colab_type": "text",
        "id": "vZJCGQnCSqS8"
      },
      "source": [
        "# Prediction"
      ]
    },
    {
      "cell_type": "code",
      "execution_count": 28,
      "metadata": {
        "colab": {},
        "colab_type": "code",
        "id": "BGxPt71KSqS9"
      },
      "outputs": [],
      "source": [
        "model.load_weights(\"weights.best.hdf5\")"
      ]
    },
    {
      "cell_type": "code",
      "execution_count": null,
      "metadata": {
        "colab": {},
        "colab_type": "code",
        "id": "hr5CdtGLSqTB"
      },
      "outputs": [],
      "source": [
        "Y_val_pred = model.predict(x_val)"
      ]
    },
    {
      "cell_type": "code",
      "execution_count": null,
      "metadata": {
        "colab": {
          "base_uri": "https://localhost:8080/",
          "height": 34
        },
        "colab_type": "code",
        "id": "fqwz9c50SqTG",
        "outputId": "de740001-948b-4ec4-a58d-d9a4e1886bc9"
      },
      "outputs": [],
      "source": [
        "accuracy = accuracy_score(np.argmax(y_val, axis=1), np.argmax(Y_val_pred, axis=1))\n",
        "print(accuracy)"
      ]
    },
    {
      "cell_type": "code",
      "execution_count": null,
      "metadata": {
        "colab": {},
        "colab_type": "code",
        "id": "o5zoWEicSqTK"
      },
      "outputs": [],
      "source": [
        "Y_pred = model.predict(X_test)\n"
      ]
    },
    {
      "cell_type": "code",
      "execution_count": null,
      "metadata": {
        "colab": {
          "base_uri": "https://localhost:8080/",
          "height": 34
        },
        "colab_type": "code",
        "id": "rd5gpHJkSqTP",
        "outputId": "07ebab55-1db3-4922-d627-ada516d9c28c"
      },
      "outputs": [],
      "source": [
        "tta_steps = 10\n",
        "predictions = []\n",
        "\n",
        "for i in tqdm(range(tta_steps)):\n",
        "    preds = model.predict_generator(train_generator.flow(X_test, batch_size=BATCH_SIZE, shuffle=False),\n",
        "                                    steps = len(X_test)/BATCH_SIZE)\n",
        "    \n",
        "    predictions.append(preds)\n",
        "    gc.collect()\n",
        "    \n",
        "Y_pred_tta = np.mean(predictions, axis=0)"
      ]
    },
    {
      "attachments": {},
      "cell_type": "markdown",
      "metadata": {
        "colab_type": "text",
        "id": "z2svsRKvSqTd"
      },
      "source": [
        "### Confusion Matrix"
      ]
    },
    {
      "cell_type": "code",
      "execution_count": null,
      "metadata": {
        "colab": {
          "base_uri": "https://localhost:8080/",
          "height": 348
        },
        "colab_type": "code",
        "id": "xcbPMHMOSqTh",
        "outputId": "d9f979c2-4d22-4b3d-97d9-764bcdaa24e9"
      },
      "outputs": [],
      "source": [
        "from sklearn.metrics import confusion_matrix\n",
        "\n",
        "def plot_confusion_matrix(cm, classes,\n",
        "                          normalize=False,\n",
        "                          title='Confusion matrix',\n",
        "                          cmap=plt.cm.Blues):\n",
        "    \n",
        "    if normalize:\n",
        "        cm = cm.astype('float') / cm.sum(axis=1)[:, np.newaxis]\n",
        "    print(cm)\n",
        "\n",
        "    plt.imshow(cm, interpolation='nearest', cmap=cmap)\n",
        "    plt.title(title)\n",
        "    plt.colorbar()\n",
        "    tick_marks = np.arange(len(classes))\n",
        "    plt.xticks(tick_marks, classes, rotation=55)\n",
        "    plt.yticks(tick_marks, classes)\n",
        "\n",
        "    fmt = '.2f' if normalize else 'd'\n",
        "    thresh = cm.max() / 2.\n",
        "    for i, j in itertools.product(range(cm.shape[0]), range(cm.shape[1])):\n",
        "        plt.text(j, i, format(cm[i, j], fmt),\n",
        "                 horizontalalignment=\"center\",\n",
        "                 color=\"white\" if cm[i, j] > thresh else \"black\")\n",
        "\n",
        "    plt.ylabel('True label')\n",
        "    plt.xlabel('Predicted label')\n",
        "    plt.tight_layout()\n",
        "\n",
        "cm = confusion_matrix(np.argmax(Y_test, axis=1), np.argmax(Y_pred, axis=1))\n",
        "\n",
        "cm_plot_label =['benign', 'malignant']\n",
        "plot_confusion_matrix(cm, cm_plot_label, title ='Confusion Metrix for Breast Cancer Prediction')"
      ]
    },
    {
      "cell_type": "code",
      "execution_count": null,
      "metadata": {
        "colab": {
          "base_uri": "https://localhost:8080/",
          "height": 348
        },
        "colab_type": "code",
        "id": "lL8CJwGNSqTn",
        "outputId": "a77223c3-6f07-4cfa-8c6d-21595e0d6c63"
      },
      "outputs": [],
      "source": [
        "cm = confusion_matrix(np.argmax(Y_test, axis=1), np.argmax(Y_pred_tta, axis=1))\n",
        "\n",
        "cm_plot_label =['benign', 'malignant']\n",
        "plot_confusion_matrix(cm, cm_plot_label, title ='Confusion Metrix for Breast Cancer Detection')"
      ]
    },
    {
      "attachments": {},
      "cell_type": "markdown",
      "metadata": {
        "colab_type": "text",
        "id": "5JJ8FLWASqTu"
      },
      "source": [
        "### Classification Report"
      ]
    },
    {
      "cell_type": "code",
      "execution_count": null,
      "metadata": {
        "colab": {
          "base_uri": "https://localhost:8080/",
          "height": 54
        },
        "colab_type": "code",
        "id": "EcOvsi__SqTv",
        "outputId": "f395ed13-879a-4165-cfb4-308b72d7d0b0"
      },
      "outputs": [],
      "source": [
        "from sklearn.metrics import classification_report\n",
        "report = classification_report( np.argmax(Y_test, axis=1), np.argmax(Y_pred, axis=1))\n",
        "print(report)"
      ]
    },
    {
      "attachments": {},
      "cell_type": "markdown",
      "metadata": {
        "colab_type": "text",
        "id": "AU_VOIJRSqTz"
      },
      "source": [
        "### ROC and AUC"
      ]
    },
    {
      "cell_type": "code",
      "execution_count": null,
      "metadata": {
        "colab": {
          "base_uri": "https://localhost:8080/",
          "height": 295
        },
        "colab_type": "code",
        "id": "2cbxKOpWSqT0",
        "outputId": "7f3004a4-a533-42d7-8fb8-59e9faa59ace"
      },
      "outputs": [],
      "source": [
        "from sklearn.metrics import roc_auc_score, auc\n",
        "from sklearn.metrics import roc_curve\n",
        "roc_log = roc_auc_score(np.argmax(Y_test, axis=1), np.argmax(Y_pred_tta, axis=1))\n",
        "false_positive_rate, true_positive_rate, threshold = roc_curve(np.argmax(Y_test, axis=1), np.argmax(Y_pred_tta, axis=1))\n",
        "area_under_curve = auc(false_positive_rate, true_positive_rate)\n",
        "\n",
        "plt.plot([0, 1], [0, 1], 'r--')\n",
        "plt.plot(false_positive_rate, true_positive_rate, label='AUC = {:.3f}'.format(area_under_curve))\n",
        "plt.xlabel('False positive rate')\n",
        "plt.ylabel('True positive rate')\n",
        "plt.title('ROC curve')\n",
        "plt.legend(loc='best')\n",
        "plt.show()\n",
        "plt.close()"
      ]
    },
    {
      "cell_type": "code",
      "execution_count": null,
      "metadata": {
        "colab": {
          "base_uri": "https://localhost:8080/",
          "height": 594
        },
        "colab_type": "code",
        "id": "V-QhpaHySqUD",
        "outputId": "d80e910a-9c90-43fc-bda2-8e60ae9d3a8a"
      },
      "outputs": [],
      "source": [
        "i=0\n",
        "prop_class=[]\n",
        "mis_class=[]\n",
        "\n",
        "for i in range(len(Y_test)):\n",
        "    if(np.argmax(Y_test[i])==np.argmax(Y_pred_tta[i])):\n",
        "        prop_class.append(i)\n",
        "    if(len(prop_class)==8):\n",
        "        break\n",
        "\n",
        "i=0\n",
        "for i in range(len(Y_test)):\n",
        "    if(not np.argmax(Y_test[i])==np.argmax(Y_pred_tta[i])):\n",
        "        mis_class.append(i)\n",
        "    if(len(mis_class)==8):\n",
        "        break\n",
        "\n",
        "w=60\n",
        "h=40\n",
        "fig=plt.figure(figsize=(18, 10))\n",
        "columns = 4\n",
        "rows = 2\n",
        "\n",
        "def Transfername(namecode):\n",
        "    if namecode==0:\n",
        "        return \"Benign\"\n",
        "    else:\n",
        "        return \"Malignant\"\n",
        "    \n",
        "for i in range(len(prop_class)):\n",
        "    ax = fig.add_subplot(rows, columns, i+1)\n",
        "    ax.set_title(\"Predicted result:\"+ Transfername(np.argmax(Y_pred_tta[prop_class[i]]))\n",
        "                       +\"\\n\"+\"Actual result: \"+ Transfername(np.argmax(Y_test[prop_class[i]])))\n",
        "    plt.imshow(X_test[prop_class[i]], interpolation='nearest')\n",
        "plt.show()"
      ]
    }
  ],
  "metadata": {
    "accelerator": "GPU",
    "colab": {
      "include_colab_link": true,
      "name": "Breast_cancer_classification.ipynb",
      "provenance": [],
      "version": "0.3.2"
    },
    "kernelspec": {
      "display_name": "Python 3",
      "name": "python3"
    },
    "language_info": {
      "codemirror_mode": {
        "name": "ipython",
        "version": 3
      },
      "file_extension": ".py",
      "mimetype": "text/x-python",
      "name": "python",
      "nbconvert_exporter": "python",
      "pygments_lexer": "ipython3",
      "version": "3.9.10"
    }
  },
  "nbformat": 4,
  "nbformat_minor": 0
}
